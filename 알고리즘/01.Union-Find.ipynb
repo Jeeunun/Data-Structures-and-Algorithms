{
 "cells": [
  {
   "cell_type": "markdown",
   "id": "ce7847d4",
   "metadata": {},
   "source": [
    "### Union-Find 알고리즘\n",
    "\n",
    "#### 1. 정의\n",
    "- 그래프 알고리즘으로 두 노드가 같은 그래프에 속하는지 판별하는 알고리즘\n",
    "- 노드를 합치는 Union 연산과 루트 노드를 찾는 Find 연산으로 이루어짐."
   ]
  },
  {
   "cell_type": "markdown",
   "id": "80ff69db",
   "metadata": {},
   "source": []
  },
  {
   "cell_type": "markdown",
   "id": "7f499235",
   "metadata": {},
   "source": [
    "********************\n",
    "관련문제 : https://www.acmicpc.net/problem/1647"
   ]
  },
  {
   "cell_type": "markdown",
   "id": "06f815a3",
   "metadata": {},
   "source": []
  }
 ],
 "metadata": {
  "language_info": {
   "name": "python"
  }
 },
 "nbformat": 4,
 "nbformat_minor": 5
}
