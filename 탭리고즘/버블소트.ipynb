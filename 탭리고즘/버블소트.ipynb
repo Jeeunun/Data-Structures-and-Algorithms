{
 "cells": [
  {
   "cell_type": "markdown",
   "metadata": {},
   "source": [
    "## 버블 소트\n",
    "N개의 수로 이루어진 수열 A[1], A[2], …, A[N]이 있다. 이 수열에 대해서 버블 소트를 수행할 때, Swap이 총 몇 번 발생하는지 알아내는 프로그램을 작성하시오.\n",
    "<br>\n",
    "**버블 소트는 서로 인접해 있는 두 수를 바꿔가며 정렬하는 방법**이다. 예를 들어 수열이 3 2 1 이었다고 하자. 이 경우에는 인접해 있는 3, 2가 바뀌어야 하므로 2 3 1 이 된다. 다음으로는 3, 1이 바뀌어야 하므로 2 1 3 이 된다. 다음에는 2, 1이 바뀌어야 하므로 1 2 3 이 된다. 그러면 더 이상 바꿔야 할 경우가 없으므로 정렬이 완료된다.\n",
    "<Br>\n",
    "입력 형식\n",
    "첫째 줄에 N(1 ≤ N ≤ 500,000)이 주어진다. 다음 줄에는 N개의 정수로 A[1], A[2], …, A[N]이 주어진다. 각각의 A[i]는 0 ≤ |A[i]| ≤ 1,000,000,000의 범위에 들어있다.\n",
    "<Br>\n",
    "출력 형식\n",
    "첫째 줄에 Swap 횟수를 출력한다\n",
    "<Br>\n",
    "예제 입력 1\n",
    "3\n",
    "3 2 1\n",
    "예제 출력 1\n",
    "3"
   ]
  },
  {
   "cell_type": "code",
   "execution_count": 1,
   "metadata": {},
   "outputs": [
    {
     "name": "stdout",
     "output_type": "stream",
     "text": [
      "4\n"
     ]
    }
   ],
   "source": [
    "#입력\n",
    "N = int(input())\n",
    "number_list = list(map(int, (input().split())))\n",
    "\n",
    "# 초기값\n",
    "swap = 0\n",
    "for i in range(N):\n",
    "    for j in range(N-1):\n",
    "        if number_list[i] > number_list[j+1]:\n",
    "            number_list[i], number_list[j+1] = number_list[j+1], number_list[i]\n",
    "            swap+=1\n",
    "\n",
    "print(swap)"
   ]
  },
  {
   "cell_type": "markdown",
   "metadata": {},
   "source": [
    ">여기서 문제가 되는 부분은 number_list[i] > number_list[j+1]이고, number_list[i]와 number_list[j+1]를 바꾸는 부분입니다.\n",
    "\n",
    "❌ 잘못된 점:\n",
    "버블 소트는 항상 서로 인접한 두 원소 (j, j+1)를 비교하고 바꾸는 방식이어야 합니다.\n",
    "\n",
    "하지만 위 코드에서는 number_list[i] > number_list[j+1] 즉, i와 j+1을 비교하고 있고,\n",
    "\n",
    "그에 따라 정렬 흐름도 깨지고, swap 횟수도 제대로 측정되지 않습니다"
   ]
  },
  {
   "cell_type": "code",
   "execution_count": 2,
   "metadata": {},
   "outputs": [
    {
     "name": "stdout",
     "output_type": "stream",
     "text": [
      "3\n"
     ]
    }
   ],
   "source": [
    "#입력\n",
    "N = int(input())\n",
    "number_list = list(map(int, (input().split())))\n",
    "\n",
    "# 초기값\n",
    "swap = 0\n",
    "\n",
    "# 회전 수\n",
    "for i in range(N):\n",
    "    # 인접한 수를 비교 (-i : 이미 정렬된 i개의 원소는 제외해야함.)\n",
    "    for j in range(N-1-i):\n",
    "        if number_list[j] > number_list[j+1]:\n",
    "            number_list[j], number_list[j+1] = number_list[j+1], number_list[j]\n",
    "            swap+=1\n",
    "\n",
    "print(swap)"
   ]
  },
  {
   "cell_type": "code",
   "execution_count": null,
   "metadata": {},
   "outputs": [],
   "source": [
    "def BubbleSort(N, list, swap):\n",
    "    for i in range(N):\n",
    "        for j in range(N-1-i):\n",
    "            if list[j] > list[j+1]:\n",
    "                list[j], list[j+1] = list[j+1] > list[j]\n",
    "                swap+=1\n",
    "    return swap\n",
    "\n",
    "N = int(input())\n",
    "numbers = list(map(int, input().split()))\n",
    "print(BubbleSort(N, numbers, 0))"
   ]
  },
  {
   "cell_type": "markdown",
   "metadata": {},
   "source": [
    "> 하지만 O(N^2) 의 시간복잡도를 갖는다.\n",
    "그래서 병합정렬을 활용해서 역순 쌍을 세는 방식으로 해결해야함.\n",
    "\n",
    "*************************************\n",
    "> 병합정렬의 프로세스 요약\n",
    "1. 리스트를 반으로 나눈다 (분할) <br>\n",
    "2. 각각의 리스트를 재귀적으로 정렬한다 <Br>\n",
    "3. 두 정렬된 리스트를 병합하면서 하나의 정렬된 리스트를 만든다. <Br>\n",
    "\n",
    "시간복잡도 : O(n long n)"
   ]
  },
  {
   "cell_type": "code",
   "execution_count": 5,
   "metadata": {},
   "outputs": [
    {
     "name": "stdout",
     "output_type": "stream",
     "text": [
      "[1, 2, 3]\n"
     ]
    }
   ],
   "source": [
    "# 병합정렬 예시 [분할 -> 정복 -> 병합]\n",
    "# 1. 2개의 리스트의 값들을 처음부터 하나씩 비교하여 두개의 리스트의 값 중에서 더 작은 값을 새로운 리스트(sorted)로 옮긴다.\n",
    "# 2. 둘 중에서 하나가 끝날 때까지 이 과정을 되풀이한다.\n",
    "# 3. 만약 둘 중에서 하나의 리스트가 먼저 끝나게 되면 나머지 리스트의 값들을 전부 새로운 리스트(sorted)로 복사한다.\n",
    "# 4. 새로운 리스트(sorted)를 원래의 리스트(list)로 옮긴다.\n",
    "\n",
    "def MergeSort(arr):\n",
    "    if len(arr) <= 1:\n",
    "        return arr\n",
    "    \n",
    "    mid = len(arr) // 2\n",
    "    left = sorted(arr[:mid])\n",
    "    right = sorted(arr[mid:])\n",
    "\n",
    "    return Merge(left, right)\n",
    "\n",
    "\n",
    "def Merge(left, right):\n",
    "    result = []\n",
    "    i = j = 0\n",
    "\n",
    "    \n",
    "    while len(left)>i and len(right)>j:\n",
    "        if left[i] <= right[j]:\n",
    "            result.append(left[i])\n",
    "            i+=1\n",
    "\n",
    "        else:\n",
    "            result.append(right[j])\n",
    "            j+=1\n",
    "\n",
    "    # 남은 값들을 추가\n",
    "    result.extend(left[i:])\n",
    "    result.extend(right[j:])\n",
    "    \n",
    "    return result\n",
    "\n",
    "N = int(input())\n",
    "arr = list(map(int, input().split()))\n",
    "\n",
    "print(MergeSort(arr))"
   ]
  },
  {
   "cell_type": "markdown",
   "metadata": {},
   "source": [
    "##### 남은 값들을 추가하는 이유:\n",
    "이 while 루프는 두 리스트의 원소들을 하나씩 비교해서 더 작은 값을 result에 추가합니다.\n",
    "하지만 이 루프는 둘 중 하나의 리스트를 끝까지 다 처리했을 때 종료되므로, 다른 리스트에 남아있는 원소는 아직 result에 들어가지 않은 상태입니다.\n",
    "\n",
    "*****************"
   ]
  },
  {
   "cell_type": "markdown",
   "metadata": {},
   "source": [
    "### 병합정렬을 통해 버블정렬 문제 수정하기"
   ]
  },
  {
   "cell_type": "code",
   "execution_count": null,
   "metadata": {},
   "outputs": [
    {
     "name": "stdout",
     "output_type": "stream",
     "text": [
      "3\n"
     ]
    }
   ],
   "source": [
    "def MergeSort(arr):\n",
    "    def Sort(arr):\n",
    "        # 이미 정렬된 상태니까 swap = 0\n",
    "        if len(arr) <= 1:\n",
    "            return arr, 0\n",
    "        \n",
    "        mid = len(arr) // 2\n",
    "        left, left_count = sorted(arr[:mid])\n",
    "        right, right_count = sorted(arr[mid:])\n",
    "        merged, merge_count = Merge(left, right)\n",
    "\n",
    "        return merged, left_count+right_count+merge_count\n",
    "\n",
    "\n",
    "    def Merge(left, right):\n",
    "        result = []\n",
    "        swap = i = j = 0\n",
    "\n",
    "        \n",
    "        while len(left)>i and len(right)>j:\n",
    "            if left[i] <= right[j]:\n",
    "                result.append(left[i])\n",
    "                i+=1\n",
    "                swap+=1\n",
    "\n",
    "            else:\n",
    "                result.append(right[j])\n",
    "                j+=1\n",
    "                swap += len(left) - i    # 핵심 : 역순쌍 발생\n",
    "\n",
    "        # 남은 값들 처리\n",
    "        result.extend(left[i:])\n",
    "        result.extend(right[j:])\n",
    "\n",
    "        return result, swap\n",
    "\n",
    "\n",
    "    _, total_count = Sort(arr)\n",
    "    return total_count\n",
    "\n",
    "N = int(input())\n",
    "arr = list(map(int, input().split()))\n",
    "\n",
    "print(MergeSort(arr))"
   ]
  },
  {
   "cell_type": "markdown",
   "metadata": {},
   "source": []
  }
 ],
 "metadata": {
  "kernelspec": {
   "display_name": "Python 3",
   "language": "python",
   "name": "python3"
  },
  "language_info": {
   "codemirror_mode": {
    "name": "ipython",
    "version": 3
   },
   "file_extension": ".py",
   "mimetype": "text/x-python",
   "name": "python",
   "nbconvert_exporter": "python",
   "pygments_lexer": "ipython3",
   "version": "3.11.9"
  }
 },
 "nbformat": 4,
 "nbformat_minor": 2
}
