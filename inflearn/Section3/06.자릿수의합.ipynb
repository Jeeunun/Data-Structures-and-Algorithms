{
 "cells": [
  {
   "cell_type": "markdown",
   "id": "e214a2d2",
   "metadata": {},
   "source": [
    "#### 자릿수의 합\n",
    "N개의 자연수가 입력되면 각 자연수의 자릿수의 합을 구하고, 그 합이 최대인 자연수를 출력하는 프로그램을 작성하세요. 각 자연수의 자릿수의 합을 구하는 함수를 def digit_sum(x)를 꼭 작성해서 프로그래밍 하세ㅛㅇ.\n",
    "\n",
    "##### 입력 설명\n",
    "첫 줄에 자연수의 개수 N(3<=N<=100)이 주어지고, 그 다음 줄에 N개의 자연수가 주어진다. 각 자연수의 크기는 10,000,000을 넘지 않는다.\n",
    "\n",
    "##### 출력설명\n",
    "자릿수의 합이 최대인 자연수를 출력한다.\n",
    "\n",
    "##### 입력예제 1\n",
    "3<br>\n",
    "125  15232 97 \n",
    "\n",
    "##### 출력예제 1\n",
    "97"
   ]
  },
  {
   "cell_type": "code",
   "execution_count": null,
   "id": "3841e650",
   "metadata": {},
   "outputs": [
    {
     "name": "stdout",
     "output_type": "stream",
     "text": [
      "97\n"
     ]
    }
   ],
   "source": [
    "# 자연수의 개수\n",
    "N = int(input())\n",
    "\n",
    "\n",
    "# N개의 자연수\n",
    "numbers = list(input().split())\n",
    "for n in numbers:\n",
    "    # 자릿수의 합이 최대인 자연수 변수 생성\n",
    "    max_value = -1\n",
    "\n",
    "    # str -> int형으로 변환 후 연산\n",
    "    split_num = [int(nn) for nn in n]\n",
    "    if max_value < sum(split_num):\n",
    "        # 자연수 변수를 초기화함.\n",
    "        max_value = n\n",
    "\n",
    "print(int(max_value))"
   ]
  },
  {
   "cell_type": "code",
   "execution_count": 9,
   "id": "af16a6a2",
   "metadata": {},
   "outputs": [
    {
     "data": {
      "text/plain": [
       "97"
      ]
     },
     "execution_count": 9,
     "metadata": {},
     "output_type": "execute_result"
    }
   ],
   "source": [
    "def digit_sum(N, numbers):\n",
    "    for n in numbers:\n",
    "        max_value = -1\n",
    "\n",
    "        split_num = [int(nn) for nn in n]\n",
    "        if max_value < sum(split_num):\n",
    "            max_value = n\n",
    "    \n",
    "    return int(max_value)\n",
    "\n",
    "N = int(input())\n",
    "numbers = list(input().split())\n",
    "digit_sum(N, numbers)"
   ]
  },
  {
   "cell_type": "markdown",
   "id": "08692b91",
   "metadata": {},
   "source": [
    "#### 정답\n",
    "##### 1) 몫과 나머지를 사용"
   ]
  },
  {
   "cell_type": "code",
   "execution_count": null,
   "id": "db9c8531",
   "metadata": {},
   "outputs": [],
   "source": [
    "N = int(input())\n",
    "a = list(map(int, input().split()))\n",
    "\n",
    "def digit_sum(x):\n",
    "    sum=0\n",
    "    while x > 0:\n",
    "        sum+=x%10\n",
    "        x=x//10\n",
    "    return sum\n",
    "\n",
    "max = -1\n",
    "for x in a:\n",
    "    total = digit_sum(x)\n",
    "    if total > max:\n",
    "        max = total\n",
    "        res = x\n",
    "\n",
    "print(res)"
   ]
  },
  {
   "cell_type": "markdown",
   "id": "8ca9a3c1",
   "metadata": {},
   "source": [
    "##### 2) 문자열로 처리"
   ]
  },
  {
   "cell_type": "code",
   "execution_count": null,
   "id": "9d70881f",
   "metadata": {},
   "outputs": [],
   "source": [
    "N = int(input())\n",
    "a = list(map(int, input().split()))\n",
    "\n",
    "def digit_sum(x):\n",
    "    sum = 0\n",
    "    for i in str(x):\n",
    "        sum = int(i)\n",
    "    return sum\n",
    "\n",
    "max = -1\n",
    "for x in a:\n",
    "    total = digit_sum(x)\n",
    "    if total > max:\n",
    "        max = total\n",
    "        res = x"
   ]
  },
  {
   "cell_type": "markdown",
   "id": "9d0e3bfc",
   "metadata": {},
   "source": []
  }
 ],
 "metadata": {
  "kernelspec": {
   "display_name": "Python 3",
   "language": "python",
   "name": "python3"
  },
  "language_info": {
   "codemirror_mode": {
    "name": "ipython",
    "version": 3
   },
   "file_extension": ".py",
   "mimetype": "text/x-python",
   "name": "python",
   "nbconvert_exporter": "python",
   "pygments_lexer": "ipython3",
   "version": "3.11.9"
  }
 },
 "nbformat": 4,
 "nbformat_minor": 5
}
