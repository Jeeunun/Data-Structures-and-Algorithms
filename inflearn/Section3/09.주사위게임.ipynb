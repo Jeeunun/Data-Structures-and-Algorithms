{
 "cells": [
  {
   "cell_type": "markdown",
   "id": "5c937177",
   "metadata": {},
   "source": [
    "#### 주사위 게임\n",
    "\n",
    "1에서부터 6까지의 눈을 가진 3개의 주사위를 던져서 다음과 같은 규칙에 따라 상금을 받는 게임이 있다. <br>\n",
    "\n",
    "규칙(1) 같은 눈이 3개가 나오면 10,000원+(같은 눈)*1,000원의 상금을 받게 된다.\n",
    "규칙(2) 같은 눈이 2개만 나오는 경우에는 1,000원+(같은 눈)*100원의 상금을 받게 된다.\n",
    "규칙(3) 모두 다른 눈이 나오는 경우에는 (그 중 가장 큰 눈)*100원의 상금을 받게 된다.\n",
    "\n",
    "예를 들어, 3개의 눈 3,3,6이 주어지면 상금은 1,000+3*100으로 계산되어 1,300원을 받게 된다. 또 3개의 눈이 2,2,2로 주어지면 10,000+2*1000 으로 계산되어 12,000을 받게 된다. 3개의 눈이 6,2,5로 주어지면 그 중 가장 큰 값이 6이므로 6*100으로 계산되어 600원의 상금으로 받게 된다. N명이 주사위 게임에 참여하였을 때, 가장 많은 상금을 받은 사람의 상금을 출력하는 프로그램을 작성하시오.\n",
    "\n",
    "##### 입력설명\n",
    "첫째 줄에는 참여하는 수 N(2<=N<=1,000)이 주어지고 그 다음 줄부터 N개의 줄에 사람들이 주사위를 던진 3개의 눈이 빈칸을 사이에 두고 각각 주어진다.\n",
    "\n",
    "##### 출력설명\n",
    "첫째 줄에 가장 많은 상금을 받은 사람의 상금을 출력한다.\n",
    "\n",
    "##### 입력예제1\n",
    "3\n",
    "3 3 6\n",
    "2 2 2\n",
    "6 2 5\n",
    "\n",
    "# 출력예제\n",
    "12000"
   ]
  },
  {
   "cell_type": "code",
   "execution_count": 4,
   "id": "211484ff",
   "metadata": {},
   "outputs": [
    {
     "name": "stdout",
     "output_type": "stream",
     "text": [
      "12000\n"
     ]
    }
   ],
   "source": [
    "N = int(input())\n",
    "\n",
    "max_value = -1\n",
    "max_key = 0\n",
    "\n",
    "for _ in range(N):\n",
    "    dic = {}\n",
    "    \n",
    "    dice_number = list(map(int, input().split()))\n",
    "    dic = dic.fromkeys(dice_number, 0)\n",
    "    for dn in dice_number:\n",
    "        dic[dn]+=1\n",
    "\n",
    "    for k, v in dic.items():\n",
    "        if v == 2:\n",
    "            prize = 10000 + (k*100)\n",
    "            if max_value < prize:\n",
    "                max_value = prize\n",
    "        if v == 3:\n",
    "            prize = 10000+(k*1000)\n",
    "            if max_value < prize:\n",
    "                max_value = prize\n",
    "        else:\n",
    "            if max_key < k:\n",
    "                max_key = k\n",
    "            prize = max_key*100\n",
    "            if max_value < prize:\n",
    "                max_value = prize\n",
    "\n",
    "print(max_value)"
   ]
  },
  {
   "cell_type": "code",
   "execution_count": null,
   "id": "316fb32c",
   "metadata": {},
   "outputs": [],
   "source": [
    "from collections import Counter\n",
    "\n",
    "N = int(input())\n",
    "max_prize = 0\n",
    "\n",
    "for _ in range(N):\n",
    "    dice = list(map(int, input().split()))\n",
    "    count = Counter(dice)\n",
    "\n",
    "    if 3 in count.values():\n",
    "        # 같은 눈이 3개\n",
    "        num = [k for k, v in count.items() if v == 3][0]\n",
    "        prize = 10000 + num * 1000\n",
    "    elif 2 in count.values():\n",
    "        # 같은 눈이 2개\n",
    "        num = [k for k, v in count.items() if v == 2][0]\n",
    "        prize = 1000 + num * 100\n",
    "    else:\n",
    "        # 모두 다른 눈\n",
    "        prize = max(dice) * 100\n",
    "\n",
    "    max_prize = max(max_prize, prize)\n",
    "\n",
    "print(max_prize)\n"
   ]
  },
  {
   "cell_type": "markdown",
   "id": "8b388d86",
   "metadata": {},
   "source": [
    "#### 정답"
   ]
  },
  {
   "cell_type": "code",
   "execution_count": null,
   "id": "7633b21c",
   "metadata": {},
   "outputs": [],
   "source": [
    "N = int(input())\n",
    "res = 0\n",
    "for i in range(N):\n",
    "    tmp = input().split()\n",
    "    tmp.sort()\n",
    "    a,b,c = map(int, tmp)\n",
    "    if a==b and b==c:\n",
    "        money=10000+a*1000\n",
    "    elif a==b or a==c:\n",
    "        money= 1000+(a*100)\n",
    "    elif b==c:\n",
    "        money= 1000+(b*100)\n",
    "    else:\n",
    "        money = c*100\n",
    "    if money>res:\n",
    "        res=money\n",
    "\n",
    "print(res)"
   ]
  },
  {
   "cell_type": "markdown",
   "id": "eabd6d10",
   "metadata": {},
   "source": []
  }
 ],
 "metadata": {
  "kernelspec": {
   "display_name": "Python 3",
   "language": "python",
   "name": "python3"
  },
  "language_info": {
   "codemirror_mode": {
    "name": "ipython",
    "version": 3
   },
   "file_extension": ".py",
   "mimetype": "text/x-python",
   "name": "python",
   "nbconvert_exporter": "python",
   "pygments_lexer": "ipython3",
   "version": "3.11.9"
  }
 },
 "nbformat": 4,
 "nbformat_minor": 5
}
