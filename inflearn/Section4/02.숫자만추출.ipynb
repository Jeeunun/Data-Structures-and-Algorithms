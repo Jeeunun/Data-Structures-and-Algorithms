{
 "cells": [
  {
   "cell_type": "markdown",
   "id": "ed9dea96",
   "metadata": {},
   "source": [
    "#### 숫자만 추출\n",
    "\n",
    "문자와 숫자가 섞여있는 문자열이 주어지면 그 중 숫자만 추출하여 그 순서대로 자연수를 만듭니다. 만들어진 자연수와 그 자연수의 약수 개수를 출력합니다.\n",
    "만약 't0e0a1c2h0er'에서 숫자만 추출하면 0,0,1,2,0 이고 이것을 자연수를 만들면 120이 됩니다. 즉 첫 자리 0은 자연수화할 때 무시합니다. 출력은 120을 출력하고 다음줄에 120의 약수의 개수를 출력하면 됩니다.\n",
    "추출하여 만들어지는 자연수는 100,000,000을 넘지 않습니다.\n",
    "\n",
    "##### 입력설명\n",
    "첫 줄에 숫자가 섞여있는 문자열이 주어집니다. 문자열의 길이는 50을 넘지 않습니다.\n",
    "\n",
    "##### 출력설명\n",
    "첫 줄에 자연수를 출력하고, 두 번째 줄에 약수의 개수를 출력합니다.\n",
    "\n",
    "##### 입력예제1\n",
    "g0en2Ts8eSoft\n",
    "\n",
    "##### 출력예제1\n",
    "28 <br>\n",
    "6 "
   ]
  },
  {
   "cell_type": "code",
   "execution_count": 7,
   "id": "628ddd27",
   "metadata": {},
   "outputs": [
    {
     "name": "stdout",
     "output_type": "stream",
     "text": [
      "28\n",
      "6\n"
     ]
    }
   ],
   "source": [
    "st = input()\n",
    "\n",
    "# 순서대로 자연수를 만들기\n",
    "nums = [s for s in st if not s.isalpha()]\n",
    "nums = [ n for n in nums if n != '0']\n",
    "number = int(''.join(nums))\n",
    "print(number)\n",
    "\n",
    "# 약수의 개수 구하기\n",
    "print(len([i for i in range(1, number+1) if number%i==0]))"
   ]
  },
  {
   "cell_type": "markdown",
   "id": "7f1a5dca",
   "metadata": {},
   "source": [
    "#### 정답\n",
    "- 문자열을 숫자로 바꾸는 흔한방식임. <br>\n",
    "res*10+int(x)의 의미 : 숫자 하나씩 추출해서 자릿수를 고려해 정수로 누적하는 방식"
   ]
  },
  {
   "cell_type": "code",
   "execution_count": 8,
   "id": "41af75e1",
   "metadata": {},
   "outputs": [
    {
     "name": "stdout",
     "output_type": "stream",
     "text": [
      "28\n",
      "6\n"
     ]
    }
   ],
   "source": [
    "s = input()\n",
    "res = 0\n",
    "for x in s:\n",
    "    if x.isdecimal():\n",
    "        res = res*10+int(x)\n",
    "print(res)\n",
    "\n",
    "cnt = 0\n",
    "for i in range(1, res+1):\n",
    "    if res%i==0:\n",
    "        cnt+=1\n",
    "print(cnt)"
   ]
  }
 ],
 "metadata": {
  "kernelspec": {
   "display_name": "Python 3",
   "language": "python",
   "name": "python3"
  },
  "language_info": {
   "codemirror_mode": {
    "name": "ipython",
    "version": 3
   },
   "file_extension": ".py",
   "mimetype": "text/x-python",
   "name": "python",
   "nbconvert_exporter": "python",
   "pygments_lexer": "ipython3",
   "version": "3.11.9"
  }
 },
 "nbformat": 4,
 "nbformat_minor": 5
}
