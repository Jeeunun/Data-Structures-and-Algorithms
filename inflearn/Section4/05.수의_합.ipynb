{
 "cells": [
  {
   "cell_type": "markdown",
   "id": "2b21c8a1",
   "metadata": {},
   "source": [
    "### 수들의 합\n",
    "N개의 수로 된 수열 A[1], A[2], ... , A[N] 이 잇다. 이 수열의 i번째 수부터 j번째 수까지의 합 A[i]+A[i+1]+...+A[j-1]+A[j]가 M이 되는 경우의 수를 구하는 프로그램을 작성하시오.\n",
    "\n",
    "#### 입력설명\n",
    "첫째 줄에 N(1<=N<=10,000), M(1<=M<=300,000,000)이 주어진다. 다음 줄에는 A[1], A[2], ..., A[N]이 공백으로 분리되어 주어진다. 각각의 A[x]는 30,000을 넘지 않는 자연수이다.\n",
    "\n",
    "#### 출력설명\n",
    "첫째 줄에 경우의 수를 출력한다.\n",
    "\n",
    "#### 입력예제1\n",
    "8 3 <br>\n",
    "1 2 1 3 1 1 1 2 <br>\n",
    "\n",
    "#### 출력예제1\n",
    "5 "
   ]
  },
  {
   "cell_type": "code",
   "execution_count": null,
   "id": "f411f0d4",
   "metadata": {},
   "outputs": [],
   "source": [
    "N, M = list(map(int, input().split()))\n",
    "a = list(map(int, input().split()))\n"
   ]
  }
 ],
 "metadata": {
  "language_info": {
   "name": "python"
  }
 },
 "nbformat": 4,
 "nbformat_minor": 5
}
