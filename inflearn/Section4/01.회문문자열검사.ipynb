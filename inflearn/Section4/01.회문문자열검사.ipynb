{
 "cells": [
  {
   "cell_type": "markdown",
   "id": "f8b0ff3c",
   "metadata": {},
   "source": [
    "#### 회문 문자열 검사\n",
    "\n",
    "N개의 문자열 데이터를 입력받아 앞에서 읽을 때나 뒤에서 읽을 떄나 같은 경우(회문 문자열)이면 YES를 출력하고 회문 문자열이 아니면 NO를 출력하는 프로그램을 작성한다. 단 회문을 검사할 때 대소문자를 구분하지 않습니다.\n",
    "\n",
    "##### 입력설명\n",
    "첫 줄에 정수 N(1<=N<=20)이 주어지고, 그 다음 줄 부터 N개의 단어가 입력된다. 각 단어의 길이는 100을 넘지 않는다.\n",
    "\n",
    "##### 출력설명\n",
    "각 줄에 해당 문자열의 결과를 YES 또는 NO로 출력한다.\n",
    "\n",
    "##### 입력예제1\n",
    "5 <br>\n",
    "level <br>\n",
    "moon <br>\n",
    "abcda <br>\n",
    "soon <br>\n",
    "gooG <br>\n",
    "\n",
    "##### 출력예제1\n",
    "#1 YES <br>\n",
    "#2 NO <br>\n",
    "#3 YES <br>\n",
    "#4 NO <br>\n",
    "#5 YES <br>"
   ]
  },
  {
   "cell_type": "code",
   "execution_count": 10,
   "id": "80f19fbe",
   "metadata": {},
   "outputs": [
    {
     "name": "stdout",
     "output_type": "stream",
     "text": [
      "#1 YES\n",
      "#2 NO\n",
      "#3 NO\n",
      "#4 NO\n",
      "#5 YES\n"
     ]
    }
   ],
   "source": [
    "N = int(input())\n",
    "for i in range(1, N+1):\n",
    "    strs = input().lower()\n",
    "    rev_strs = ''.join(list(reversed(strs))).lower()\n",
    "    if strs == rev_strs:\n",
    "        print(f'#{i}', 'YES')\n",
    "    else:\n",
    "        print(f'#{i}', 'NO')"
   ]
  },
  {
   "cell_type": "markdown",
   "id": "6e9e97e3",
   "metadata": {},
   "source": [
    "#### 정답"
   ]
  },
  {
   "cell_type": "code",
   "execution_count": 11,
   "id": "3a4a033e",
   "metadata": {},
   "outputs": [
    {
     "name": "stdout",
     "output_type": "stream",
     "text": [
      "#1 YES\n",
      "#2 NO\n",
      "#3 NO\n",
      "#4 NO\n",
      "#5 YES\n"
     ]
    }
   ],
   "source": [
    "N = int(input())\n",
    "for i in range(N):\n",
    "    s = input().upper()\n",
    "    size = len(s)\n",
    "    for j in range(size//2):\n",
    "        if s[j] != s[-1-j]:\n",
    "            print(\"#%d NO\" %(i+1))\n",
    "            break\n",
    "    else:\n",
    "        print(\"#%d YES\" %(i+1))"
   ]
  },
  {
   "cell_type": "code",
   "execution_count": 12,
   "id": "1ff1c3a7",
   "metadata": {},
   "outputs": [
    {
     "name": "stdout",
     "output_type": "stream",
     "text": [
      "#1 YES\n",
      "#2 NO\n",
      "#3 NO\n",
      "#4 NO\n",
      "#5 YES\n"
     ]
    }
   ],
   "source": [
    "# 더 쉬운 코드\n",
    "N = int(input())\n",
    "for i in range(N):\n",
    "    s = input().upper()\n",
    "    if s == s[::-1]:\n",
    "        print(\"#%d YES\" %(i+1))\n",
    "\n",
    "    else:\n",
    "        print(\"#%d NO\" %(i+1))"
   ]
  },
  {
   "cell_type": "code",
   "execution_count": null,
   "id": "ff8edffc",
   "metadata": {},
   "outputs": [],
   "source": []
  }
 ],
 "metadata": {
  "kernelspec": {
   "display_name": "Python 3",
   "language": "python",
   "name": "python3"
  },
  "language_info": {
   "codemirror_mode": {
    "name": "ipython",
    "version": 3
   },
   "file_extension": ".py",
   "mimetype": "text/x-python",
   "name": "python",
   "nbconvert_exporter": "python",
   "pygments_lexer": "ipython3",
   "version": "3.11.9"
  }
 },
 "nbformat": 4,
 "nbformat_minor": 5
}
