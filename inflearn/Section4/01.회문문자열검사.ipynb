{
 "cells": [
  {
   "cell_type": "markdown",
   "id": "f8b0ff3c",
   "metadata": {},
   "source": [
    "#### 회문 문자열 검사\n",
    "\n",
    "N개의 문자열 데이터를 입력받아 앞에서 읽을 때나 뒤에서 읽을 떄나 같은 경우(회문 문자열)이면 YES를 출력하고 회문 문자열이 아니면 NO를 출력하는 프로그램을 작성한다. 단 회문을 검사할 때 대소문자를 구분하지 않습니다.\n",
    "\n",
    "##### 입력설명\n",
    "첫 줄에 정수 N(1<=N<=20)이 주어지고, 그 다음 줄 부터 N개의 단어가 입력된다. 각 단어의 길이는 100을 넘지 않는다.\n",
    "\n",
    "##### 출력설명\n",
    "각 줄에 해당 문자열의 결과를 YES 또는 NO로 출력한다.\n",
    "\n",
    "##### 입력예제1\n",
    "5\n",
    "level\n",
    "moon\n",
    "abcda\n",
    "soon\n",
    "gooG\n",
    "\n",
    "##### 출력예제1\n",
    "#1 YES\n",
    "#2 NO\n",
    "#3 YES\n",
    "#4 NO\n",
    "#5 YES"
   ]
  }
 ],
 "metadata": {
  "language_info": {
   "name": "python"
  }
 },
 "nbformat": 4,
 "nbformat_minor": 5
}
