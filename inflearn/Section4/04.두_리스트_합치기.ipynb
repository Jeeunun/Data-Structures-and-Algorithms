{
 "cells": [
  {
   "cell_type": "markdown",
   "id": "dc89ef3e",
   "metadata": {},
   "source": [
    "### 두 리스트 합치기\n",
    "오름차순으로 정렬이 된 두 리스트가 주어지면 두 리스트를 오름차순으로 합쳐 출력하는 프로그램을 작성하세요.\n",
    "\n",
    "#### 입력 설명\n",
    "- 첫번째 줄에 첫 번째 리스트의 크기 N(1<=N<=100)이 주어집니다.\n",
    "- 두번째 줄에 N개의 리스트 원소가 오름차순으로 주어집니다.\n",
    "- 세번째 줄에 두 번째 리스트의 크기 M(1<=M<=100)이 주어집니다.\n",
    "- 네번째 줄에 M개의 리스트 원소가 오름차순으로 주어집니다.\n",
    "각 리스트의 원소는 int형 변수의 크기를 넘지 않습니다.\n",
    "\n",
    "#### 출력 설명\n",
    "오름차순으로 정렬된 리스트를 출력합니다.\n",
    "\n",
    "#### 입력 예제1\n",
    "3 <br>\n",
    "1 3 5 <br>\n",
    "5 <br>\n",
    "2 3 6 7 9 <br>\n",
    "\n",
    "#### 출력 예제1\n",
    "1 2 3 3 5 6 7 9 <br>"
   ]
  },
  {
   "cell_type": "markdown",
   "id": "3ef2729d",
   "metadata": {},
   "source": [
    "- list + list 후, sort => nlogn의 시간복잡도\n",
    "- 따라서 이미 정렬된 리스트라고 할 때, 각 리스트들의 포인트 변수들을 비교."
   ]
  },
  {
   "cell_type": "code",
   "execution_count": 9,
   "id": "0fb50a0d",
   "metadata": {},
   "outputs": [
    {
     "name": "stdout",
     "output_type": "stream",
     "text": [
      "1 2 3 3 5 6 7 9\n"
     ]
    }
   ],
   "source": [
    "result = []\n",
    "\n",
    "N = int(input())\n",
    "a = list(map(int, input().split()))\n",
    "\n",
    "M = int(input())\n",
    "b = list(map(int, input().split()))\n",
    "\n",
    "# 포인트 변수\n",
    "i= 0\n",
    "j = 0\n",
    "\n",
    "while i<N and j<M:\n",
    "    if a[i] <= b[j]:\n",
    "        result.append(a[i])\n",
    "        i+=1\n",
    "    else:\n",
    "        result.append(b[j])\n",
    "        j+=1\n",
    "\n",
    "# 남은 원소 처리\n",
    "while i < N:\n",
    "    result.append(a[i])\n",
    "    i+=1\n",
    "\n",
    "while j < M:\n",
    "    result.append(b[j])\n",
    "    j += 1\n",
    "    \n",
    "print(*result)"
   ]
  }
 ],
 "metadata": {
  "kernelspec": {
   "display_name": "Python 3",
   "language": "python",
   "name": "python3"
  },
  "language_info": {
   "codemirror_mode": {
    "name": "ipython",
    "version": 3
   },
   "file_extension": ".py",
   "mimetype": "text/x-python",
   "name": "python",
   "nbconvert_exporter": "python",
   "pygments_lexer": "ipython3",
   "version": "3.11.9"
  }
 },
 "nbformat": 4,
 "nbformat_minor": 5
}
