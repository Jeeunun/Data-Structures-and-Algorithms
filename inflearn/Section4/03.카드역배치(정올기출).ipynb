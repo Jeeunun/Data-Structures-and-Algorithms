{
 "cells": [
  {
   "attachments": {
    "image-2.png": {
     "image/png": "[encoded data removed]"
    },
    "image-3.png": {
     "image/png": "[encoded data removed]"
    },
    "image.png": {
     "image/png": "[encoded data removed]"
    }
   },
   "cell_type": "markdown",
   "id": "efa59759",
   "metadata": {},
   "source": [
    "#### 카드 역배치 (정올기출)\n",
    "\n",
    "1부터 20까지 숫자가 하나씩 쓰인 20장의 카드가 아래 그림과 같이 오름차순으로 한 줄로 놓여있다. 각 카드의 위치는 카드 위에 적힌 숫자와 같이 1부터 20까지로 나타낸다. <br>\n",
    "이제 여러분은 다음과 같은 규칙으로 카드의 위치를 바꾼다. : 구간 [a,b] (단, 1<=a<=b<=20)가 주어지면 위치 a부터 위치 b까지의 카드를 현재의 역순으로 놓는다. <br>\n",
    "![image.png](attachment:image.png)\n",
    "<br>\n",
    "예를 들어 현재 카드가 놓인 순서가 위의 그림과 같고 구간이 [5,10]으로 주어진다면, 위치 5부터 위치 10까지의 카드 5,6,7,8,9,10을 역순으로 하여 10,9,8,7,6,5 로 놓는다. 이제 전체 카드가 놓인 순서는 아래 그림과 같다.<br>\n",
    "![image-2.png](attachment:image-2.png)<br>\n",
    "<br>\n",
    "이 상태에서 구간 [9,13]이 다시 주어진다면, 위치 9부터 위치 13까지의 카드 6,5,11,12,13을 역순으로 하여 13,12,11,5,6으로 놓는다. 이제 전체 카드가 놓인 순서는 아래 그림과 같다.<br>\n",
    "![image-3.png](attachment:image-3.png)<br>\n",
    "<br>\n",
    "오름차순으로 한 줄로 놓여있는 20장의 카드에 대해 10개의 구간이 주어지면, 주어진 구간의 순서대로 위의 규칙에 따라 순서를 뒤집는 작업을 연속해서 처리한 뒤 마지막 카드들의 배치를 구하는 프로그램을 작성하시오.<br>\n",
    "<br>\n",
    "\n",
    "##### 입력설명 \n",
    "총 10개의 줄에 걸쳐 한 줄에 하나씩 10개의 구간이 주어진다. i번째 줄에는 i번째 구간의 시작 위치 ai와 끝위치 bi가 차례대로 주어진다. 이때 두 값의 범위는 1<=ai<=bi<=20 이다. <br>\n",
    "\n",
    "##### 출력설명\n",
    "1부터 20까지 오름차순으로 놓인 카드들에 대해, 입력으로 주어진 10개의 구간 순서대로 뒤집는 작업을 했을 때 마지막 카드들의 배치를 한 줄에 출력한다.\n",
    "\n",
    "##### 입력예제1\n",
    "5 10 <br>\n",
    "9 13 <br>\n",
    "1 2 <br>\n",
    "3 4 <br>\n",
    "5 6 <br>\n",
    "1 2 <br>\n",
    "3 4 <br>\n",
    "5 6 <br>\n",
    "1 20 <br>\n",
    "1 20 <br>\n",
    "\n",
    "##### 출력예제1\n",
    "1 2 3 4 10 9 8 7 13 12 11 5 6 14 15 16 17 18 19 20\n"
   ]
  },
  {
   "cell_type": "code",
   "execution_count": 12,
   "id": "e5135deb",
   "metadata": {},
   "outputs": [
    {
     "name": "stdout",
     "output_type": "stream",
     "text": [
      "1 2 3 4 10 9 8 7 13 12 11 5 6 14 15 16 17 18 19 20\n"
     ]
    }
   ],
   "source": [
    "location = [i for i in range(1,21)]\n",
    "cards = [i for i in range(1,21)]\n",
    "\n",
    "# 구간을 담는다\n",
    "rg_list = []\n",
    "for _ in range(10):\n",
    "    rg = list(map(int, input().split()))\n",
    "    rg_list.append(rg)\n",
    "\n",
    "# 카드 재배치\n",
    "for rl in rg_list:  \n",
    "    reverse_rg = list(reversed(cards[rl[0]-1:rl[1]]))\n",
    "    cards = cards[:rl[0]-1] + reverse_rg + cards[rl[1]:]\n",
    "\n",
    "print(*cards)"
   ]
  },
  {
   "cell_type": "markdown",
   "id": "5742c7ff",
   "metadata": {},
   "source": [
    "#### 정답\n",
    "바꾸는 부분만 계산하도록 함.  <br>\n",
    "예를들어 1~10까지의 카드가 있다고 할때, [3,4,5,6,7] 부분만 바꾸려면, 바꾸는 횟수는 (7-3)+1//2 =총 2번이 서로 교환된다. <br>\n",
    "교환되는 부분만 서로 바꿔주고 카드 재배치 <br>"
   ]
  },
  {
   "cell_type": "code",
   "execution_count": 13,
   "id": "1ceaaad4",
   "metadata": {},
   "outputs": [
    {
     "name": "stdout",
     "output_type": "stream",
     "text": [
      "1 2 3 4 10 9 8 7 13 12 11 5 6 14 15 16 17 18 19 20 "
     ]
    }
   ],
   "source": [
    "a = list(range(21))\n",
    "for _ in range(10):\n",
    "    s, e = map(int, input().split())        # s=3, e=7\n",
    "    for i in range((e-s+1)//2):             # 변경횟수는 2회\n",
    "        a[s+i], a[e-i] = a[e-i], a[s+i]     # a[3], a[7] = a[7], a[3] /  a[4], a[6] = a[6], a[4]\n",
    "\n",
    "# 출력을 할 때 맨 앞에 있는 0을 제외하고 출력\n",
    "a.pop(0)\n",
    "\n",
    "for x in a:\n",
    "    print(x, end=' ')"
   ]
  },
  {
   "cell_type": "code",
   "execution_count": null,
   "id": "cb4d3cf9",
   "metadata": {},
   "outputs": [],
   "source": []
  }
 ],
 "metadata": {
  "kernelspec": {
   "display_name": "Python 3",
   "language": "python",
   "name": "python3"
  },
  "language_info": {
   "codemirror_mode": {
    "name": "ipython",
    "version": 3
   },
   "file_extension": ".py",
   "mimetype": "text/x-python",
   "name": "python",
   "nbconvert_exporter": "python",
   "pygments_lexer": "ipython3",
   "version": "3.11.9"
  }
 },
 "nbformat": 4,
 "nbformat_minor": 5
}
