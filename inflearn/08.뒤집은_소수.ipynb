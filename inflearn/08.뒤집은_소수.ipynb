{
 "cells": [
  {
   "cell_type": "markdown",
   "id": "e1bacef1",
   "metadata": {},
   "source": [
    "#### 뒤집은 소수\n",
    "\n",
    "N개의 자연수가 입력되면 각 자연수를 뒤집은 후 그 뒤집은 수가 소수이면 그 수를 출력하는 프로그램을 작성하세요. 예를 들어 32를 뒤집으면 23이고, 23은 소수이다. 그러면 23을 출력한다.\n",
    "단 910을 뒤집으면 19로 숫자화해야한다. 첫 자리부터의 연속된 0은 무시한다. 뒤집은 함수인 def reverse(x) 와 소수인지 확인하는함수 def isPrime(x)를 반드시 작성하여 프로그래밍한다.\n",
    "\n",
    "##### 입력설명\n",
    "첫 줄에 자연수의 개수 N(3<=N<=100)이 주어지고, 그 다음 줄에 N개의 자연수가 주어진다.\n",
    "각 자연수의 크기는 100,000을 넘지 않는다.\n",
    "\n",
    "##### 출력설명\n",
    "첫 줄에 뒤집은 소수를 출력합니다. 출력순서는 입력대로 출력합니다.\n",
    "\n",
    "\n",
    "##### 입력예제\n",
    "5 <br>\n",
    "32 55 62 3700 250\n",
    "\n",
    "##### 출력예제\n",
    "23 73"
   ]
  },
  {
   "cell_type": "code",
   "execution_count": 61,
   "id": "70837dec",
   "metadata": {},
   "outputs": [
    {
     "name": "stdout",
     "output_type": "stream",
     "text": [
      "23 73\n"
     ]
    }
   ],
   "source": [
    "N = int(input())                    # 5\n",
    "numbers = list(input().split())     # 32 55 62 3700 250\n",
    "\n",
    "# 뒤집기 함수\n",
    "def reverse(x):\n",
    "    reversed_list = []\n",
    "    for n in x: \n",
    "        reverse_str = ''\n",
    "        for nn in n:       \n",
    "            # 문자열로 변환 + 쪼개기 + 뒤집기\n",
    "            reverse_str = nn + reverse_str\n",
    "        reversed_list.append(reverse_str)\n",
    "\n",
    "    # 0으로 시작되는 부분은 삭제\n",
    "    new_reversed_list = []\n",
    "    for rl in reversed_list:\n",
    "        new_str = ''\n",
    "        for i in range(len(rl)):\n",
    "            if rl[i] != '0':\n",
    "                new_str+=rl[i]\n",
    "        new_reversed_list.append(new_str)\n",
    "\n",
    "    return isPrime(list(map(int, new_reversed_list)))\n",
    "\n",
    "# 소수인지 확인하는 함수\n",
    "def isPrime(x):\n",
    "    result = []\n",
    "    for number in x:\n",
    "        nums = [i for i in range(1, number+1) if number%i == 0]\n",
    "        if len(nums) == 2:\n",
    "            result.append(number)\n",
    "    \n",
    "    return result \n",
    "\n",
    "\n",
    "print(*reverse(numbers))"
   ]
  },
  {
   "cell_type": "markdown",
   "id": "be8471bd",
   "metadata": {},
   "source": [
    "> `*` 연산자 : 리스트의 요소를 하나씩 언패킹해서 print()에 전달함"
   ]
  },
  {
   "cell_type": "markdown",
   "id": "60fa7d36",
   "metadata": {},
   "source": [
    "#### 정답\n",
    "\n",
    "몫과 나머지를 이용.\n",
    "ex. X=9010 : X=X//10, t=X%10, res=(res*10)+t (res의 초기화값은 0)\n",
    "1) t=0 res=0\n",
    "2) t=1 res=1\n",
    "3) t=0 res=10\n",
    "4) t=9 res=109\n"
   ]
  },
  {
   "cell_type": "code",
   "execution_count": null,
   "id": "5c89b0ab",
   "metadata": {},
   "outputs": [],
   "source": [
    "N = int(input())\n",
    "a = list(map(int, input().split()))\n",
    "\n",
    "def reverse(x):\n",
    "    res=0\n",
    "    while x>0:\n",
    "        t=x%10\n",
    "        res=res*10+t\n",
    "        x=x//10\n",
    "    \n",
    "    return res\n",
    "\n",
    "def isPrime(x):\n",
    "    if x ==1:\n",
    "        return False\n",
    "    for i in range(2, x//2+1):\n",
    "        if x%i == 0:\n",
    "            return False\n",
    "    else:\n",
    "        return True\n",
    "    \n",
    "for x in a:\n",
    "    tmp = reverse(x)\n",
    "    if isPrime(tmp):\n",
    "        print(tmp, end=' ')"
   ]
  }
 ],
 "metadata": {
  "kernelspec": {
   "display_name": "Python 3",
   "language": "python",
   "name": "python3"
  },
  "language_info": {
   "codemirror_mode": {
    "name": "ipython",
    "version": 3
   },
   "file_extension": ".py",
   "mimetype": "text/x-python",
   "name": "python",
   "nbconvert_exporter": "python",
   "pygments_lexer": "ipython3",
   "version": "3.11.9"
  }
 },
 "nbformat": 4,
 "nbformat_minor": 5
}
