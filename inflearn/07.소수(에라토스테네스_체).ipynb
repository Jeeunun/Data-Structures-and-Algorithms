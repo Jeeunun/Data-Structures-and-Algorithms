{
 "cells": [
  {
   "cell_type": "markdown",
   "id": "d8bd86e8",
   "metadata": {},
   "source": [
    "#### 소수(에랏토스테네스 체)\n",
    "자연수 N이 입력되면 1부터 N까지의 소수의 개수를 출력하는 프로그램을 작성하세요. 만약 20이 입력되면 1부터 20까지의 소수는 2,3,5,7,11,13,17,19로 총 8개 입니다.\n",
    "제한시간은 1초입니다.\n",
    "\n",
    "##### 입력설명\n",
    "첫 줄에 자연수의 개수 N(2<=N<=200,000)이 주어집니다.\n",
    "\n",
    "##### 출력설명\n",
    "첫 줄에 소수의 개수를 출력합니다.\n",
    "\n",
    "##### 입력 예제1\n",
    "20\n",
    "\n",
    "##### 출력 예제1\n",
    "8"
   ]
  },
  {
   "cell_type": "code",
   "execution_count": null,
   "id": "1ae92ccf",
   "metadata": {},
   "outputs": [
    {
     "name": "stdout",
     "output_type": "stream",
     "text": [
      "8\n"
     ]
    }
   ],
   "source": [
    "# 소수는 1보다 큰 자연수 중 1과 자기 자신만을 약수로 가지는 수\n",
    "\n",
    "# 자연수 N\n",
    "N = int(input())\n",
    "\n",
    "# 소수의 개수 카운트 변수\n",
    "cnt = 0\n",
    "\n",
    "for i in range(1, N+1):\n",
    "    num = [i for j in range(1, i+1) if i%j == 0]\n",
    "    if len(num) == 2:\n",
    "        cnt+=1\n",
    "\n",
    "print(cnt)\n"
   ]
  },
  {
   "cell_type": "code",
   "execution_count": 2,
   "id": "d74c02aa",
   "metadata": {},
   "outputs": [
    {
     "data": {
      "text/plain": [
       "8"
      ]
     },
     "execution_count": 2,
     "metadata": {},
     "output_type": "execute_result"
    }
   ],
   "source": [
    "def PrimeNumber(N, cnt):\n",
    "    for i in range(1, N+1):\n",
    "        num = [i for j in range(1, i+1) if i%j==0]\n",
    "        if len(num) == 2:\n",
    "            cnt+=1\n",
    "    return cnt\n",
    "\n",
    "N = int(input())\n",
    "cnt = 0\n",
    "PrimeNumber(N, cnt)"
   ]
  },
  {
   "cell_type": "markdown",
   "id": "999b069d",
   "metadata": {},
   "source": [
    "#### 정답"
   ]
  },
  {
   "cell_type": "code",
   "execution_count": 4,
   "id": "e4c5ef4b",
   "metadata": {},
   "outputs": [
    {
     "name": "stdout",
     "output_type": "stream",
     "text": [
      "8\n"
     ]
    }
   ],
   "source": [
    "N = int(input())\n",
    "ch=[0]*(N+1)\n",
    "cnt = 0\n",
    "\n",
    "for i in range(2, N+1):\n",
    "    if ch[i] == 0:\n",
    "        cnt+=1\n",
    "        for j in range(i, N+1, i):\n",
    "            ch[j] = 1\n",
    "\n",
    "print(cnt)"
   ]
  },
  {
   "cell_type": "code",
   "execution_count": null,
   "id": "9be3917c",
   "metadata": {},
   "outputs": [],
   "source": []
  }
 ],
 "metadata": {
  "kernelspec": {
   "display_name": "Python 3",
   "language": "python",
   "name": "python3"
  },
  "language_info": {
   "codemirror_mode": {
    "name": "ipython",
    "version": 3
   },
   "file_extension": ".py",
   "mimetype": "text/x-python",
   "name": "python",
   "nbconvert_exporter": "python",
   "pygments_lexer": "ipython3",
   "version": "3.11.9"
  }
 },
 "nbformat": 4,
 "nbformat_minor": 5
}
