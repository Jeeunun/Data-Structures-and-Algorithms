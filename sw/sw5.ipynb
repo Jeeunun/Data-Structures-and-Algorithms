{
 "cells": [
  {
   "cell_type": "markdown",
   "id": "35641a95",
   "metadata": {},
   "source": [
    "#### 1926 간단한 369게임"
   ]
  },
  {
   "cell_type": "code",
   "execution_count": 17,
   "id": "400238a0",
   "metadata": {},
   "outputs": [
    {
     "name": "stdout",
     "output_type": "stream",
     "text": [
      "1 2 - 4 5 - 7 8 - 10 11 12 1- 14 15 1- 17 18 1- 20 21 22 2- 24 25 2- 27 28 2- -0 -1 -2 -- -4\n"
     ]
    }
   ],
   "source": [
    "target = [\"3\", \"6\", \"9\"]\n",
    "T = int(input())\n",
    "new_list = []\n",
    "\n",
    "number_list = [str(i) for i in range(1, T+1)]\n",
    "for i in range(len(number_list)):\n",
    "    ilist = [j for i in number_list[i] for j in i]\n",
    "    st = ''\n",
    "    for n in ilist:\n",
    "        if n in target:\n",
    "            st+='-'\n",
    "        elif n not in target:\n",
    "            st+=n\n",
    "    new_list.append(st)\n",
    "\n",
    "print(' '.join(new_list))\n",
    "\n"
   ]
  },
  {
   "cell_type": "code",
   "execution_count": null,
   "id": "9651c6ec",
   "metadata": {},
   "outputs": [],
   "source": []
  }
 ],
 "metadata": {
  "kernelspec": {
   "display_name": "Python 3",
   "language": "python",
   "name": "python3"
  },
  "language_info": {
   "codemirror_mode": {
    "name": "ipython",
    "version": 3
   },
   "file_extension": ".py",
   "mimetype": "text/x-python",
   "name": "python",
   "nbconvert_exporter": "python",
   "pygments_lexer": "ipython3",
   "version": "3.11.9"
  }
 },
 "nbformat": 4,
 "nbformat_minor": 5
}
