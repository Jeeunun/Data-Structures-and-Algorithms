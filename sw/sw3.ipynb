{
 "cells": [
  {
   "cell_type": "markdown",
   "id": "adb9b344",
   "metadata": {},
   "source": [
    "#### 23791"
   ]
  },
  {
   "cell_type": "code",
   "execution_count": 5,
   "id": "058c36d8",
   "metadata": {},
   "outputs": [
    {
     "name": "stdout",
     "output_type": "stream",
     "text": [
      "ABB\n",
      "ABBABB\n"
     ]
    }
   ],
   "source": [
    "# 테스트케이스\n",
    "T = int(input())\n",
    "\n",
    "for _ in range(T):\n",
    "    # 선수의 수\n",
    "    N = int(input()) # 3\n",
    "    # 결과값\n",
    "    result = []\n",
    "\n",
    "    a = list(map(int, input().split()))   # 1 2 3\n",
    "    b = list(map(int, input().split()))   # 3 2 1\n",
    "\n",
    "    # 지명순위 = 인덱스 값이 작을 수록 지명 순위가 높음 -> a, b 비교.\n",
    "    for n in range(1,N+1):      # 1 2 3\n",
    "        # 만약 a에서 1의 인덱스값이 b에서 1의 인덱스값보다 낮으면 result에 담기.\n",
    "        for i, v in enumerate(a):       # (0,1),(1,2),(2,3)\n",
    "            for j, k in enumerate(b):   # (0,3),(1,2),(2,1)\n",
    "                if n == v and n == k:\n",
    "                    if i < j:\n",
    "                        result.append('A')\n",
    "                    else:\n",
    "                        result.append('B')\n",
    "\n",
    "\n",
    "\n",
    "    print(''.join(result))\n",
    "                \n"
   ]
  },
  {
   "cell_type": "code",
   "execution_count": null,
   "id": "9cae90de",
   "metadata": {},
   "outputs": [],
   "source": []
  }
 ],
 "metadata": {
  "kernelspec": {
   "display_name": "Python 3",
   "language": "python",
   "name": "python3"
  },
  "language_info": {
   "codemirror_mode": {
    "name": "ipython",
    "version": 3
   },
   "file_extension": ".py",
   "mimetype": "text/x-python",
   "name": "python",
   "nbconvert_exporter": "python",
   "pygments_lexer": "ipython3",
   "version": "3.11.9"
  }
 },
 "nbformat": 4,
 "nbformat_minor": 5
}
