{
 "cells": [
  {
   "cell_type": "markdown",
   "id": "adb9b344",
   "metadata": {},
   "source": [
    "#### 23791"
   ]
  },
  {
   "cell_type": "code",
   "execution_count": 5,
   "id": "058c36d8",
   "metadata": {},
   "outputs": [
    {
     "name": "stdout",
     "output_type": "stream",
     "text": [
      "ABB\n",
      "ABBABB\n"
     ]
    }
   ],
   "source": [
    "# 테스트케이스\n",
    "T = int(input())\n",
    "\n",
    "for _ in range(T):\n",
    "    # 선수의 수\n",
    "    N = int(input()) # 3\n",
    "    # 결과값\n",
    "    result = []\n",
    "\n",
    "    a = list(map(int, input().split()))   # 1 2 3\n",
    "    b = list(map(int, input().split()))   # 3 2 1\n",
    "\n",
    "    # 지명순위 = 인덱스 값이 작을 수록 지명 순위가 높음 -> a, b 비교.\n",
    "    for n in range(1,N+1):      # 1 2 3\n",
    "        # 만약 a에서 1의 인덱스값이 b에서 1의 인덱스값보다 낮으면 result에 담기.\n",
    "        for i, v in enumerate(a):       # (0,1),(1,2),(2,3)\n",
    "            for j, k in enumerate(b):   # (0,3),(1,2),(2,1)\n",
    "                if n == v and n == k:\n",
    "                    if i < j:\n",
    "                        result.append('A')\n",
    "                    else:\n",
    "                        result.append('B')\n",
    "\n",
    "\n",
    "\n",
    "    print(''.join(result))\n",
    "                \n"
   ]
  },
  {
   "cell_type": "markdown",
   "id": "3f7df97c",
   "metadata": {},
   "source": [
    "> 틀림 : 반복구조가 문제 요구와 맞지 않음.\n",
    "n번 선수의 A, B 인덱스를 비교해서 A,B 중 어느 팀이 더 선호하나? 판단하고 있으나 <br>\n",
    "__A -> B -> A ... 처럼 순서대로 하나씩 선수를 선택해가는 과정을 시뮬레이션 해야함__"
   ]
  },
  {
   "cell_type": "code",
   "execution_count": 2,
   "id": "9cae90de",
   "metadata": {},
   "outputs": [
    {
     "name": "stdout",
     "output_type": "stream",
     "text": [
      "AAB\n"
     ]
    }
   ],
   "source": [
    "from collections import deque\n",
    "\n",
    "T = int(input())\n",
    "for _ in range(T):\n",
    "    N = int(input())\n",
    "    a = deque(map(int, input().split()))\n",
    "    b = deque(map(int, input().split()))\n",
    "\n",
    "    team = {}\n",
    "    picked = set()\n",
    "\n",
    "    turn = 0 # 0:A팀, 1:B팀\n",
    "\n",
    "    while len(picked) < N:\n",
    "        if turn == 0:\n",
    "            # A팀 차례\n",
    "            while a:\n",
    "                player = a.popleft()\n",
    "                if player not in picked:\n",
    "                    team[player] = 'A'\n",
    "                    picked.add(player)\n",
    "                    break\n",
    "        else:\n",
    "            # B팀차례\n",
    "            while b:\n",
    "                player = b.popleft()\n",
    "                if player not in picked:\n",
    "                    team[player] = 'B'\n",
    "                    picked.add(player)\n",
    "                    break\n",
    "\n",
    "        # 번갈아가며            \n",
    "        turn ^=1 \n",
    "\n",
    "    # 결과\n",
    "    result = [team[i] for i in range(1, N+1)]\n",
    "    print(''.join(result))"
   ]
  },
  {
   "cell_type": "code",
   "execution_count": null,
   "id": "371a7b2f",
   "metadata": {},
   "outputs": [],
   "source": []
  }
 ],
 "metadata": {
  "kernelspec": {
   "display_name": "Python 3",
   "language": "python",
   "name": "python3"
  },
  "language_info": {
   "codemirror_mode": {
    "name": "ipython",
    "version": 3
   },
   "file_extension": ".py",
   "mimetype": "text/x-python",
   "name": "python",
   "nbconvert_exporter": "python",
   "pygments_lexer": "ipython3",
   "version": "3.11.9"
  }
 },
 "nbformat": 4,
 "nbformat_minor": 5
}
