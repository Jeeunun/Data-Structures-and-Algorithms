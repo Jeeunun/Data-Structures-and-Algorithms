{
 "cells": [
  {
   "cell_type": "markdown",
   "id": "6b21afba",
   "metadata": {},
   "source": [
    "#### 1872 "
   ]
  },
  {
   "cell_type": "markdown",
   "id": "c5a95dc2",
   "metadata": {},
   "source": [
    "3 <br>\n",
    "3 <br>\n",
    "10 7 6 <br>\n",
    "3 <br>\n",
    "3 5 9 <br>\n",
    "5 <br>\n",
    "1 1 3 1 2 <br>"
   ]
  },
  {
   "cell_type": "markdown",
   "id": "732fa966",
   "metadata": {},
   "source": [
    "틀림 ㅠ"
   ]
  },
  {
   "cell_type": "code",
   "execution_count": null,
   "id": "37aed400",
   "metadata": {},
   "outputs": [
    {
     "name": "stdout",
     "output_type": "stream",
     "text": [
      "#1 7\n",
      "#2 10\n",
      "#3 7\n"
     ]
    }
   ],
   "source": [
    "T = int(input())\n",
    "# 여러 개의 테스트 케이스가 주어지므로, 각각을 처리합니다.\n",
    "for test_case in range(1, T + 1):\n",
    "    days = int(input())\n",
    "    input_list = list(map(int, input().split()))\n",
    "\n",
    "    # 이익 변수\n",
    "    pf = 0\n",
    "    # 최대값 변수\n",
    "    # max_value = max(input_list)\n",
    "\n",
    "    for i in input_list:\n",
    "        if i < max_value:\n",
    "            profit = max_value - i\n",
    "            pf += profit\n",
    "        else:\n",
    "            max_value = i    # 최대값변수를 초기화\n",
    "\n",
    "    if pf < 0:\n",
    "        print(f'#{test_case} 0')\n",
    "    else:\n",
    "        print(f'#{test_case} {pf}')\n"
   ]
  },
  {
   "cell_type": "markdown",
   "id": "bf51e621",
   "metadata": {},
   "source": [
    "#### 뒤에서 푸는 것을 추천"
   ]
  },
  {
   "cell_type": "code",
   "execution_count": null,
   "id": "a6e55958",
   "metadata": {},
   "outputs": [],
   "source": []
  }
 ],
 "metadata": {
  "kernelspec": {
   "display_name": "Python 3",
   "language": "python",
   "name": "python3"
  },
  "language_info": {
   "codemirror_mode": {
    "name": "ipython",
    "version": 3
   },
   "file_extension": ".py",
   "mimetype": "text/x-python",
   "name": "python",
   "nbconvert_exporter": "python",
   "pygments_lexer": "ipython3",
   "version": "3.11.9"
  }
 },
 "nbformat": 4,
 "nbformat_minor": 5
}
