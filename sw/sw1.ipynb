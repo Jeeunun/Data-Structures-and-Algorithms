{
 "cells": [
  {
   "cell_type": "markdown",
   "id": "368cd165",
   "metadata": {},
   "source": [
    "#### 2072"
   ]
  },
  {
   "cell_type": "code",
   "execution_count": 2,
   "id": "14a7597e",
   "metadata": {},
   "outputs": [
    {
     "name": "stdout",
     "output_type": "stream",
     "text": [
      "# 1   200\n",
      "# 2   208\n",
      "# 3   121\n"
     ]
    }
   ],
   "source": [
    "# import sys\n",
    "# sys.stdin = open(\"input.txt\", \"r\")\n",
    "\n",
    "\n",
    "T = int(input())\n",
    "# 여러개의 테스트 케이스가 주어지므로, 각각을 처리합니다.\n",
    "for test_case in range(1, T + 1):\n",
    "    # ///////////////////////////////////////////////////////////////////////////////////\n",
    "    result = 0\n",
    "    input_list = list(map(int ,input().split()))\n",
    "    for i in input_list:\n",
    "        if i%2 != 0:\n",
    "            result+=i\n",
    "    print('#',f'{test_case}', ' ', result)\n",
    "    # ///////////////////////////////////////////////////////////////////////////////////"
   ]
  },
  {
   "cell_type": "code",
   "execution_count": null,
   "id": "ab4db354",
   "metadata": {},
   "outputs": [],
   "source": []
  }
 ],
 "metadata": {
  "kernelspec": {
   "display_name": "Python 3",
   "language": "python",
   "name": "python3"
  },
  "language_info": {
   "codemirror_mode": {
    "name": "ipython",
    "version": 3
   },
   "file_extension": ".py",
   "mimetype": "text/x-python",
   "name": "python",
   "nbconvert_exporter": "python",
   "pygments_lexer": "ipython3",
   "version": "3.11.9"
  }
 },
 "nbformat": 4,
 "nbformat_minor": 5
}
