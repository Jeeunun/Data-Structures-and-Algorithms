{
 "cells": [
  {
   "cell_type": "markdown",
   "id": "c5990954",
   "metadata": {},
   "source": [
    "#### 1204"
   ]
  },
  {
   "cell_type": "code",
   "execution_count": 18,
   "id": "be12d9fc",
   "metadata": {},
   "outputs": [
    {
     "name": "stdout",
     "output_type": "stream",
     "text": [
      "# 1 8\n"
     ]
    }
   ],
   "source": [
    "T = int(input())\n",
    "\n",
    "for _ in range(T):\n",
    "    case_number = int(input())\n",
    "    score_list = list(map(int, input().split()))\n",
    "    data_dict = {}\n",
    "\n",
    "    for i in set(score_list):\n",
    "        data_dict[i] = 0\n",
    "    \n",
    "    for s in score_list:\n",
    "        data_dict[s]+=1\n",
    "\n",
    "    # 만약 최빈수가 여러 개 일때는 가장 큰 점수를 출력\n",
    "    max_key = [i for i, v in data_dict.items() if v == max(data_dict.values())]\n",
    "    if len(max_key) > 1:\n",
    "        print('#', f'{case_number}', max_key[-1][0])\n",
    "    else:\n",
    "        print('#', f'{case_number}', max_key[0])"
   ]
  },
  {
   "cell_type": "code",
   "execution_count": null,
   "id": "0c4228ea",
   "metadata": {},
   "outputs": [],
   "source": []
  }
 ],
 "metadata": {
  "kernelspec": {
   "display_name": "Python 3",
   "language": "python",
   "name": "python3"
  },
  "language_info": {
   "codemirror_mode": {
    "name": "ipython",
    "version": 3
   },
   "file_extension": ".py",
   "mimetype": "text/x-python",
   "name": "python",
   "nbconvert_exporter": "python",
   "pygments_lexer": "ipython3",
   "version": "3.11.9"
  }
 },
 "nbformat": 4,
 "nbformat_minor": 5
}
